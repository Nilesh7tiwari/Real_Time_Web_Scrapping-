{
 "cells": [
  {
   "cell_type": "code",
   "execution_count": 1,
   "id": "3fad63ae",
   "metadata": {},
   "outputs": [],
   "source": [
    "import requests\n",
    "from bs4 import BeautifulSoup\n",
    "import warnings\n",
    "warnings.simplefilter(action='ignore', category=FutureWarning)\n",
    "import pandas as pd"
   ]
  },
  {
   "cell_type": "code",
   "execution_count": 2,
   "id": "a8575f13",
   "metadata": {},
   "outputs": [],
   "source": [
    "url = \"https://www.cars.com/shopping/results/?page=1&page_size=20&list_price_max=&makes[]=toyota&maximum_distance=20&models[]=&stock_type=used&zip=\""
   ]
  },
  {
   "cell_type": "code",
   "execution_count": 3,
   "id": "b16daf06",
   "metadata": {},
   "outputs": [],
   "source": [
    "html = requests.get(url)"
   ]
  },
  {
   "cell_type": "code",
   "execution_count": 4,
   "id": "226a8a7c",
   "metadata": {},
   "outputs": [
    {
     "data": {
      "text/plain": [
       "200"
      ]
     },
     "execution_count": 4,
     "metadata": {},
     "output_type": "execute_result"
    }
   ],
   "source": [
    "html.status_code"
   ]
  },
  {
   "cell_type": "code",
   "execution_count": 5,
   "id": "d9aa870e",
   "metadata": {},
   "outputs": [],
   "source": [
    "html = requests.get(url).text"
   ]
  },
  {
   "cell_type": "code",
   "execution_count": 6,
   "id": "58932d58",
   "metadata": {},
   "outputs": [],
   "source": [
    "soup = BeautifulSoup(html,\"html5lib\")"
   ]
  },
  {
   "cell_type": "code",
   "execution_count": 7,
   "id": "96c57577",
   "metadata": {},
   "outputs": [],
   "source": [
    "results = soup.find_all('div',{'class':'vehicle-card'})"
   ]
  },
  {
   "cell_type": "code",
   "execution_count": 8,
   "id": "d90752b5",
   "metadata": {},
   "outputs": [
    {
     "data": {
      "text/plain": [
       "20"
      ]
     },
     "execution_count": 8,
     "metadata": {},
     "output_type": "execute_result"
    }
   ],
   "source": [
    "len(results)"
   ]
  },
  {
   "cell_type": "markdown",
   "id": "e1968bb0",
   "metadata": {},
   "source": [
    "### data we want to Scrap\n",
    "#### 1) name, 2) price, 3) milage, 4) review, 5) review_count, 6) badges "
   ]
  },
  {
   "cell_type": "markdown",
   "id": "26a1977f",
   "metadata": {},
   "source": [
    "#### name"
   ]
  },
  {
   "cell_type": "code",
   "execution_count": 9,
   "id": "a082b125",
   "metadata": {},
   "outputs": [
    {
     "data": {
      "text/plain": [
       "'2021 Toyota Camry SE'"
      ]
     },
     "execution_count": 9,
     "metadata": {},
     "output_type": "execute_result"
    }
   ],
   "source": [
    "results[0].find('h2').text"
   ]
  },
  {
   "cell_type": "markdown",
   "id": "fdad0c56",
   "metadata": {},
   "source": [
    "#### milage"
   ]
  },
  {
   "cell_type": "code",
   "execution_count": 10,
   "id": "49232193",
   "metadata": {},
   "outputs": [
    {
     "data": {
      "text/plain": [
       "'13,390 mi.'"
      ]
     },
     "execution_count": 10,
     "metadata": {},
     "output_type": "execute_result"
    }
   ],
   "source": [
    "results[0].find('div',{'class': 'mileage'}).text"
   ]
  },
  {
   "cell_type": "markdown",
   "id": "5584fd91",
   "metadata": {},
   "source": [
    "#### Price"
   ]
  },
  {
   "cell_type": "code",
   "execution_count": 11,
   "id": "7855076c",
   "metadata": {},
   "outputs": [
    {
     "data": {
      "text/plain": [
       "'$31,150'"
      ]
     },
     "execution_count": 11,
     "metadata": {},
     "output_type": "execute_result"
    }
   ],
   "source": [
    "results[0].find('span',{'class':'primary-price'}).text"
   ]
  },
  {
   "cell_type": "markdown",
   "id": "05a0fcc4",
   "metadata": {},
   "source": [
    "#### Review"
   ]
  },
  {
   "cell_type": "code",
   "execution_count": 12,
   "id": "cecf722e",
   "metadata": {},
   "outputs": [
    {
     "data": {
      "text/plain": [
       "'4.5'"
      ]
     },
     "execution_count": 12,
     "metadata": {},
     "output_type": "execute_result"
    }
   ],
   "source": [
    "results[0].find('span',{'class':'sds-rating__count'}).text"
   ]
  },
  {
   "cell_type": "markdown",
   "id": "9931dfc7",
   "metadata": {},
   "source": [
    "#### review_count"
   ]
  },
  {
   "cell_type": "code",
   "execution_count": 13,
   "id": "3f59f8a9",
   "metadata": {},
   "outputs": [
    {
     "data": {
      "text/plain": [
       "'(659 reviews)'"
      ]
     },
     "execution_count": 13,
     "metadata": {},
     "output_type": "execute_result"
    }
   ],
   "source": [
    "results[0].find('span',{'class':'sds-rating__link sds-button-link'}).text"
   ]
  },
  {
   "cell_type": "markdown",
   "id": "0de96baa",
   "metadata": {},
   "source": [
    "#### Badges"
   ]
  },
  {
   "cell_type": "code",
   "execution_count": 14,
   "id": "b53b6fcb",
   "metadata": {},
   "outputs": [
    {
     "data": {
      "text/plain": [
       "'Good Deal | $741 under'"
      ]
     },
     "execution_count": 14,
     "metadata": {},
     "output_type": "execute_result"
    }
   ],
   "source": [
    "results[0].find('span',{'class':\"sds-badge__label\"}).text"
   ]
  },
  {
   "cell_type": "code",
   "execution_count": 15,
   "id": "9ebfd085",
   "metadata": {},
   "outputs": [],
   "source": [
    "name =[]\n",
    "price =[]\n",
    "milage =[]\n",
    "badges =[]\n",
    "review_count=[]\n",
    "review =[]"
   ]
  },
  {
   "cell_type": "code",
   "execution_count": 16,
   "id": "595ef1c4",
   "metadata": {},
   "outputs": [],
   "source": [
    "for result in results:\n",
    "    try:\n",
    "        name.append( result.find('h2').text)\n",
    "    except:\n",
    "        name.append(\"null\")\n",
    "    try:   \n",
    "        price.append(result.find('span',{'class':'primary-price'}).text)\n",
    "    except:\n",
    "        price.append(\"null\")\n",
    "    try:\n",
    "        badges.append(result.find('span',{'class':\"sds-badge__label\"}).text)\n",
    "    except:\n",
    "        badges.append(\"null\")\n",
    "    try:\n",
    "        review.append(result.find('span',{'class':'sds-rating__count'}).text)\n",
    "    except:\n",
    "        review.append(\"null\")\n",
    "    try:\n",
    "        review_count.append(result.find('span',{'class':'sds-rating__link sds-button-link'}).text)\n",
    "    except:\n",
    "        review_count.append(\"null\")\n",
    "    try:\n",
    "        milage.append(result.find('div',{'class': 'mileage'}).text)\n",
    "    except:\n",
    "        milage.append(\"null\")\n",
    "\n",
    "        "
   ]
  },
  {
   "cell_type": "code",
   "execution_count": 17,
   "id": "2c48dded",
   "metadata": {},
   "outputs": [],
   "source": [
    "car_data_of_single_page = pd.DataFrame({\"Name\":name, \"Price($)\":price, \"Milage\":milage,\"Review\":review,\"Review_count\":review_count,\"Badge\":badges})"
   ]
  },
  {
   "cell_type": "code",
   "execution_count": 18,
   "id": "a44b8abb",
   "metadata": {},
   "outputs": [
    {
     "data": {
      "text/html": [
       "<div>\n",
       "<style scoped>\n",
       "    .dataframe tbody tr th:only-of-type {\n",
       "        vertical-align: middle;\n",
       "    }\n",
       "\n",
       "    .dataframe tbody tr th {\n",
       "        vertical-align: top;\n",
       "    }\n",
       "\n",
       "    .dataframe thead th {\n",
       "        text-align: right;\n",
       "    }\n",
       "</style>\n",
       "<table border=\"1\" class=\"dataframe\">\n",
       "  <thead>\n",
       "    <tr style=\"text-align: right;\">\n",
       "      <th></th>\n",
       "      <th>Name</th>\n",
       "      <th>Price($)</th>\n",
       "      <th>Milage</th>\n",
       "      <th>Review</th>\n",
       "      <th>Review_count</th>\n",
       "      <th>Badge</th>\n",
       "    </tr>\n",
       "  </thead>\n",
       "  <tbody>\n",
       "    <tr>\n",
       "      <th>0</th>\n",
       "      <td>2021 Toyota Camry SE</td>\n",
       "      <td>$31,150</td>\n",
       "      <td>13,390 mi.</td>\n",
       "      <td>4.5</td>\n",
       "      <td>(659 reviews)</td>\n",
       "      <td>Good Deal | $741 under</td>\n",
       "    </tr>\n",
       "    <tr>\n",
       "      <th>1</th>\n",
       "      <td>2021 Toyota Supra 3.0 Premium</td>\n",
       "      <td>$58,981</td>\n",
       "      <td>7,348 mi.</td>\n",
       "      <td>4.8</td>\n",
       "      <td>(2,744 reviews)</td>\n",
       "      <td>Great Deal</td>\n",
       "    </tr>\n",
       "    <tr>\n",
       "      <th>2</th>\n",
       "      <td>2019 Toyota Sequoia Platinum</td>\n",
       "      <td>$51,999</td>\n",
       "      <td>55,121 mi.</td>\n",
       "      <td>4.5</td>\n",
       "      <td>(2,092 reviews)</td>\n",
       "      <td>Great Deal</td>\n",
       "    </tr>\n",
       "    <tr>\n",
       "      <th>3</th>\n",
       "      <td>2019 Toyota Camry SE</td>\n",
       "      <td>$25,689</td>\n",
       "      <td>49,126 mi.</td>\n",
       "      <td>1.0</td>\n",
       "      <td>(1 review)</td>\n",
       "      <td>Good Deal | $176 under</td>\n",
       "    </tr>\n",
       "    <tr>\n",
       "      <th>4</th>\n",
       "      <td>2017 Toyota Highlander Limited</td>\n",
       "      <td>$31,591</td>\n",
       "      <td>84,621 mi.</td>\n",
       "      <td>4.9</td>\n",
       "      <td>(1,745 reviews)</td>\n",
       "      <td>Good Deal</td>\n",
       "    </tr>\n",
       "    <tr>\n",
       "      <th>5</th>\n",
       "      <td>2021 Toyota Supra 3.0</td>\n",
       "      <td>$55,800</td>\n",
       "      <td>25,990 mi.</td>\n",
       "      <td>4.6</td>\n",
       "      <td>(642 reviews)</td>\n",
       "      <td>Good Deal | $1,511 under</td>\n",
       "    </tr>\n",
       "    <tr>\n",
       "      <th>6</th>\n",
       "      <td>2013 Toyota Land Cruiser V8</td>\n",
       "      <td>$61,000</td>\n",
       "      <td>13,430 mi.</td>\n",
       "      <td>4.3</td>\n",
       "      <td>(866 reviews)</td>\n",
       "      <td>Fair Deal</td>\n",
       "    </tr>\n",
       "    <tr>\n",
       "      <th>7</th>\n",
       "      <td>2019 Toyota Camry SE</td>\n",
       "      <td>$25,493</td>\n",
       "      <td>49,550 mi.</td>\n",
       "      <td>4.1</td>\n",
       "      <td>(637 reviews)</td>\n",
       "      <td>Fair Deal</td>\n",
       "    </tr>\n",
       "    <tr>\n",
       "      <th>8</th>\n",
       "      <td>2019 Toyota Camry SE</td>\n",
       "      <td>$29,791</td>\n",
       "      <td>16,794 mi.</td>\n",
       "      <td>4.8</td>\n",
       "      <td>(3,210 reviews)</td>\n",
       "      <td>Fair Deal</td>\n",
       "    </tr>\n",
       "    <tr>\n",
       "      <th>9</th>\n",
       "      <td>2017 Toyota Corolla LE</td>\n",
       "      <td>$13,899</td>\n",
       "      <td>49,752 mi.</td>\n",
       "      <td>3.3</td>\n",
       "      <td>(42 reviews)</td>\n",
       "      <td>Great Deal | $2,484 under</td>\n",
       "    </tr>\n",
       "    <tr>\n",
       "      <th>10</th>\n",
       "      <td>2017 Toyota Highlander Limited</td>\n",
       "      <td>$33,958</td>\n",
       "      <td>53,767 mi.</td>\n",
       "      <td>4.9</td>\n",
       "      <td>(1,745 reviews)</td>\n",
       "      <td>Good Deal</td>\n",
       "    </tr>\n",
       "    <tr>\n",
       "      <th>11</th>\n",
       "      <td>2019 Toyota Sequoia Platinum</td>\n",
       "      <td>$57,999</td>\n",
       "      <td>54,668 mi.</td>\n",
       "      <td>4.5</td>\n",
       "      <td>(2,092 reviews)</td>\n",
       "      <td>Good Deal</td>\n",
       "    </tr>\n",
       "    <tr>\n",
       "      <th>12</th>\n",
       "      <td>2019 Toyota Camry SE</td>\n",
       "      <td>$27,292</td>\n",
       "      <td>27,100 mi.</td>\n",
       "      <td>4.4</td>\n",
       "      <td>(884 reviews)</td>\n",
       "      <td>Fair Deal</td>\n",
       "    </tr>\n",
       "    <tr>\n",
       "      <th>13</th>\n",
       "      <td>2020 Toyota RAV4 LE</td>\n",
       "      <td>$28,989</td>\n",
       "      <td>49,234 mi.</td>\n",
       "      <td>4.6</td>\n",
       "      <td>(147 reviews)</td>\n",
       "      <td>Good Deal</td>\n",
       "    </tr>\n",
       "    <tr>\n",
       "      <th>14</th>\n",
       "      <td>2019 Toyota Highlander XLE</td>\n",
       "      <td>$41,588</td>\n",
       "      <td>18,137 mi.</td>\n",
       "      <td>3.5</td>\n",
       "      <td>(96 reviews)</td>\n",
       "      <td>Fair Deal</td>\n",
       "    </tr>\n",
       "    <tr>\n",
       "      <th>15</th>\n",
       "      <td>2016 Toyota 4Runner Limited</td>\n",
       "      <td>$32,797</td>\n",
       "      <td>80,825 mi.</td>\n",
       "      <td>4.8</td>\n",
       "      <td>(785 reviews)</td>\n",
       "      <td>Good Deal | $805 under</td>\n",
       "    </tr>\n",
       "    <tr>\n",
       "      <th>16</th>\n",
       "      <td>2019 Toyota Camry LE</td>\n",
       "      <td>$23,169</td>\n",
       "      <td>47,205 mi.</td>\n",
       "      <td>4.9</td>\n",
       "      <td>(48 reviews)</td>\n",
       "      <td>Good Deal</td>\n",
       "    </tr>\n",
       "    <tr>\n",
       "      <th>17</th>\n",
       "      <td>2021 Toyota Supra 3.0 Premium</td>\n",
       "      <td>$62,998</td>\n",
       "      <td>3,758 mi.</td>\n",
       "      <td>4.5</td>\n",
       "      <td>(961 reviews)</td>\n",
       "      <td>Great Deal</td>\n",
       "    </tr>\n",
       "    <tr>\n",
       "      <th>18</th>\n",
       "      <td>2015 Toyota Highlander Limited Platinum</td>\n",
       "      <td>$23,444</td>\n",
       "      <td>64,062 mi.</td>\n",
       "      <td>4.8</td>\n",
       "      <td>(135 reviews)</td>\n",
       "      <td>Good Deal | $548 under</td>\n",
       "    </tr>\n",
       "    <tr>\n",
       "      <th>19</th>\n",
       "      <td>2019 Toyota Corolla LE</td>\n",
       "      <td>$17,980</td>\n",
       "      <td>47,337 mi.</td>\n",
       "      <td>4.5</td>\n",
       "      <td>(2,065 reviews)</td>\n",
       "      <td>Great Deal | $3,371 under</td>\n",
       "    </tr>\n",
       "  </tbody>\n",
       "</table>\n",
       "</div>"
      ],
      "text/plain": [
       "                                       Name Price($)      Milage Review  \\\n",
       "0                      2021 Toyota Camry SE  $31,150  13,390 mi.    4.5   \n",
       "1             2021 Toyota Supra 3.0 Premium  $58,981   7,348 mi.    4.8   \n",
       "2              2019 Toyota Sequoia Platinum  $51,999  55,121 mi.    4.5   \n",
       "3                      2019 Toyota Camry SE  $25,689  49,126 mi.    1.0   \n",
       "4            2017 Toyota Highlander Limited  $31,591  84,621 mi.    4.9   \n",
       "5                     2021 Toyota Supra 3.0  $55,800  25,990 mi.    4.6   \n",
       "6               2013 Toyota Land Cruiser V8  $61,000  13,430 mi.    4.3   \n",
       "7                      2019 Toyota Camry SE  $25,493  49,550 mi.    4.1   \n",
       "8                      2019 Toyota Camry SE  $29,791  16,794 mi.    4.8   \n",
       "9                    2017 Toyota Corolla LE  $13,899  49,752 mi.    3.3   \n",
       "10           2017 Toyota Highlander Limited  $33,958  53,767 mi.    4.9   \n",
       "11             2019 Toyota Sequoia Platinum  $57,999  54,668 mi.    4.5   \n",
       "12                     2019 Toyota Camry SE  $27,292  27,100 mi.    4.4   \n",
       "13                      2020 Toyota RAV4 LE  $28,989  49,234 mi.    4.6   \n",
       "14               2019 Toyota Highlander XLE  $41,588  18,137 mi.    3.5   \n",
       "15              2016 Toyota 4Runner Limited  $32,797  80,825 mi.    4.8   \n",
       "16                     2019 Toyota Camry LE  $23,169  47,205 mi.    4.9   \n",
       "17            2021 Toyota Supra 3.0 Premium  $62,998   3,758 mi.    4.5   \n",
       "18  2015 Toyota Highlander Limited Platinum  $23,444  64,062 mi.    4.8   \n",
       "19                   2019 Toyota Corolla LE  $17,980  47,337 mi.    4.5   \n",
       "\n",
       "       Review_count                      Badge  \n",
       "0     (659 reviews)     Good Deal | $741 under  \n",
       "1   (2,744 reviews)                 Great Deal  \n",
       "2   (2,092 reviews)                 Great Deal  \n",
       "3        (1 review)     Good Deal | $176 under  \n",
       "4   (1,745 reviews)                  Good Deal  \n",
       "5     (642 reviews)   Good Deal | $1,511 under  \n",
       "6     (866 reviews)                  Fair Deal  \n",
       "7     (637 reviews)                  Fair Deal  \n",
       "8   (3,210 reviews)                  Fair Deal  \n",
       "9      (42 reviews)  Great Deal | $2,484 under  \n",
       "10  (1,745 reviews)                  Good Deal  \n",
       "11  (2,092 reviews)                  Good Deal  \n",
       "12    (884 reviews)                  Fair Deal  \n",
       "13    (147 reviews)                  Good Deal  \n",
       "14     (96 reviews)                  Fair Deal  \n",
       "15    (785 reviews)     Good Deal | $805 under  \n",
       "16     (48 reviews)                  Good Deal  \n",
       "17    (961 reviews)                 Great Deal  \n",
       "18    (135 reviews)     Good Deal | $548 under  \n",
       "19  (2,065 reviews)  Great Deal | $3,371 under  "
      ]
     },
     "execution_count": 18,
     "metadata": {},
     "output_type": "execute_result"
    }
   ],
   "source": [
    "car_data_of_single_page"
   ]
  },
  {
   "cell_type": "markdown",
   "id": "f566d4cd",
   "metadata": {},
   "source": [
    "### Basic EDA"
   ]
  },
  {
   "cell_type": "code",
   "execution_count": 19,
   "id": "625ca23f",
   "metadata": {},
   "outputs": [],
   "source": [
    "car_data_of_single_page['Price($)'] =car_data_of_single_page['Price($)'].str.strip(\"$\")"
   ]
  },
  {
   "cell_type": "code",
   "execution_count": 20,
   "id": "89504ee2",
   "metadata": {},
   "outputs": [],
   "source": [
    "car_data_of_single_page['Milage'] = car_data_of_single_page['Milage'].str.replace(\"mi.\",'')"
   ]
  },
  {
   "cell_type": "code",
   "execution_count": 21,
   "id": "0cdc540e",
   "metadata": {},
   "outputs": [],
   "source": [
    "car_data_of_single_page['Review_count'] = car_data_of_single_page['Review_count'].str.strip(\"reviews )\")"
   ]
  },
  {
   "cell_type": "code",
   "execution_count": 22,
   "id": "f184f456",
   "metadata": {},
   "outputs": [],
   "source": [
    "car_data_of_single_page['Review_count']= car_data_of_single_page['Review_count'].str.strip('(')"
   ]
  },
  {
   "cell_type": "code",
   "execution_count": 23,
   "id": "6ed4e4b5",
   "metadata": {},
   "outputs": [],
   "source": [
    "car_data_of_single_page['Badge'] = car_data_of_single_page['Badge'].str.split(\"|\").str[0]"
   ]
  },
  {
   "cell_type": "code",
   "execution_count": 24,
   "id": "2d47dd3f",
   "metadata": {},
   "outputs": [
    {
     "data": {
      "text/html": [
       "<div>\n",
       "<style scoped>\n",
       "    .dataframe tbody tr th:only-of-type {\n",
       "        vertical-align: middle;\n",
       "    }\n",
       "\n",
       "    .dataframe tbody tr th {\n",
       "        vertical-align: top;\n",
       "    }\n",
       "\n",
       "    .dataframe thead th {\n",
       "        text-align: right;\n",
       "    }\n",
       "</style>\n",
       "<table border=\"1\" class=\"dataframe\">\n",
       "  <thead>\n",
       "    <tr style=\"text-align: right;\">\n",
       "      <th></th>\n",
       "      <th>Name</th>\n",
       "      <th>Price($)</th>\n",
       "      <th>Milage</th>\n",
       "      <th>Review</th>\n",
       "      <th>Review_count</th>\n",
       "      <th>Badge</th>\n",
       "    </tr>\n",
       "  </thead>\n",
       "  <tbody>\n",
       "    <tr>\n",
       "      <th>0</th>\n",
       "      <td>2021 Toyota Camry SE</td>\n",
       "      <td>31,150</td>\n",
       "      <td>13,390</td>\n",
       "      <td>4.5</td>\n",
       "      <td>659</td>\n",
       "      <td>Good Deal</td>\n",
       "    </tr>\n",
       "    <tr>\n",
       "      <th>1</th>\n",
       "      <td>2021 Toyota Supra 3.0 Premium</td>\n",
       "      <td>58,981</td>\n",
       "      <td>7,348</td>\n",
       "      <td>4.8</td>\n",
       "      <td>2,744</td>\n",
       "      <td>Great Deal</td>\n",
       "    </tr>\n",
       "    <tr>\n",
       "      <th>2</th>\n",
       "      <td>2019 Toyota Sequoia Platinum</td>\n",
       "      <td>51,999</td>\n",
       "      <td>55,121</td>\n",
       "      <td>4.5</td>\n",
       "      <td>2,092</td>\n",
       "      <td>Great Deal</td>\n",
       "    </tr>\n",
       "    <tr>\n",
       "      <th>3</th>\n",
       "      <td>2019 Toyota Camry SE</td>\n",
       "      <td>25,689</td>\n",
       "      <td>49,126</td>\n",
       "      <td>1.0</td>\n",
       "      <td>1</td>\n",
       "      <td>Good Deal</td>\n",
       "    </tr>\n",
       "    <tr>\n",
       "      <th>4</th>\n",
       "      <td>2017 Toyota Highlander Limited</td>\n",
       "      <td>31,591</td>\n",
       "      <td>84,621</td>\n",
       "      <td>4.9</td>\n",
       "      <td>1,745</td>\n",
       "      <td>Good Deal</td>\n",
       "    </tr>\n",
       "    <tr>\n",
       "      <th>5</th>\n",
       "      <td>2021 Toyota Supra 3.0</td>\n",
       "      <td>55,800</td>\n",
       "      <td>25,990</td>\n",
       "      <td>4.6</td>\n",
       "      <td>642</td>\n",
       "      <td>Good Deal</td>\n",
       "    </tr>\n",
       "    <tr>\n",
       "      <th>6</th>\n",
       "      <td>2013 Toyota Land Cruiser V8</td>\n",
       "      <td>61,000</td>\n",
       "      <td>13,430</td>\n",
       "      <td>4.3</td>\n",
       "      <td>866</td>\n",
       "      <td>Fair Deal</td>\n",
       "    </tr>\n",
       "    <tr>\n",
       "      <th>7</th>\n",
       "      <td>2019 Toyota Camry SE</td>\n",
       "      <td>25,493</td>\n",
       "      <td>49,550</td>\n",
       "      <td>4.1</td>\n",
       "      <td>637</td>\n",
       "      <td>Fair Deal</td>\n",
       "    </tr>\n",
       "    <tr>\n",
       "      <th>8</th>\n",
       "      <td>2019 Toyota Camry SE</td>\n",
       "      <td>29,791</td>\n",
       "      <td>16,794</td>\n",
       "      <td>4.8</td>\n",
       "      <td>3,210</td>\n",
       "      <td>Fair Deal</td>\n",
       "    </tr>\n",
       "    <tr>\n",
       "      <th>9</th>\n",
       "      <td>2017 Toyota Corolla LE</td>\n",
       "      <td>13,899</td>\n",
       "      <td>49,752</td>\n",
       "      <td>3.3</td>\n",
       "      <td>42</td>\n",
       "      <td>Great Deal</td>\n",
       "    </tr>\n",
       "    <tr>\n",
       "      <th>10</th>\n",
       "      <td>2017 Toyota Highlander Limited</td>\n",
       "      <td>33,958</td>\n",
       "      <td>53,767</td>\n",
       "      <td>4.9</td>\n",
       "      <td>1,745</td>\n",
       "      <td>Good Deal</td>\n",
       "    </tr>\n",
       "    <tr>\n",
       "      <th>11</th>\n",
       "      <td>2019 Toyota Sequoia Platinum</td>\n",
       "      <td>57,999</td>\n",
       "      <td>54,668</td>\n",
       "      <td>4.5</td>\n",
       "      <td>2,092</td>\n",
       "      <td>Good Deal</td>\n",
       "    </tr>\n",
       "    <tr>\n",
       "      <th>12</th>\n",
       "      <td>2019 Toyota Camry SE</td>\n",
       "      <td>27,292</td>\n",
       "      <td>27,100</td>\n",
       "      <td>4.4</td>\n",
       "      <td>884</td>\n",
       "      <td>Fair Deal</td>\n",
       "    </tr>\n",
       "    <tr>\n",
       "      <th>13</th>\n",
       "      <td>2020 Toyota RAV4 LE</td>\n",
       "      <td>28,989</td>\n",
       "      <td>49,234</td>\n",
       "      <td>4.6</td>\n",
       "      <td>147</td>\n",
       "      <td>Good Deal</td>\n",
       "    </tr>\n",
       "    <tr>\n",
       "      <th>14</th>\n",
       "      <td>2019 Toyota Highlander XLE</td>\n",
       "      <td>41,588</td>\n",
       "      <td>18,137</td>\n",
       "      <td>3.5</td>\n",
       "      <td>96</td>\n",
       "      <td>Fair Deal</td>\n",
       "    </tr>\n",
       "    <tr>\n",
       "      <th>15</th>\n",
       "      <td>2016 Toyota 4Runner Limited</td>\n",
       "      <td>32,797</td>\n",
       "      <td>80,825</td>\n",
       "      <td>4.8</td>\n",
       "      <td>785</td>\n",
       "      <td>Good Deal</td>\n",
       "    </tr>\n",
       "    <tr>\n",
       "      <th>16</th>\n",
       "      <td>2019 Toyota Camry LE</td>\n",
       "      <td>23,169</td>\n",
       "      <td>47,205</td>\n",
       "      <td>4.9</td>\n",
       "      <td>48</td>\n",
       "      <td>Good Deal</td>\n",
       "    </tr>\n",
       "    <tr>\n",
       "      <th>17</th>\n",
       "      <td>2021 Toyota Supra 3.0 Premium</td>\n",
       "      <td>62,998</td>\n",
       "      <td>3,758</td>\n",
       "      <td>4.5</td>\n",
       "      <td>961</td>\n",
       "      <td>Great Deal</td>\n",
       "    </tr>\n",
       "    <tr>\n",
       "      <th>18</th>\n",
       "      <td>2015 Toyota Highlander Limited Platinum</td>\n",
       "      <td>23,444</td>\n",
       "      <td>64,062</td>\n",
       "      <td>4.8</td>\n",
       "      <td>135</td>\n",
       "      <td>Good Deal</td>\n",
       "    </tr>\n",
       "    <tr>\n",
       "      <th>19</th>\n",
       "      <td>2019 Toyota Corolla LE</td>\n",
       "      <td>17,980</td>\n",
       "      <td>47,337</td>\n",
       "      <td>4.5</td>\n",
       "      <td>2,065</td>\n",
       "      <td>Great Deal</td>\n",
       "    </tr>\n",
       "  </tbody>\n",
       "</table>\n",
       "</div>"
      ],
      "text/plain": [
       "                                       Name Price($)   Milage Review  \\\n",
       "0                      2021 Toyota Camry SE   31,150  13,390     4.5   \n",
       "1             2021 Toyota Supra 3.0 Premium   58,981   7,348     4.8   \n",
       "2              2019 Toyota Sequoia Platinum   51,999  55,121     4.5   \n",
       "3                      2019 Toyota Camry SE   25,689  49,126     1.0   \n",
       "4            2017 Toyota Highlander Limited   31,591  84,621     4.9   \n",
       "5                     2021 Toyota Supra 3.0   55,800  25,990     4.6   \n",
       "6               2013 Toyota Land Cruiser V8   61,000  13,430     4.3   \n",
       "7                      2019 Toyota Camry SE   25,493  49,550     4.1   \n",
       "8                      2019 Toyota Camry SE   29,791  16,794     4.8   \n",
       "9                    2017 Toyota Corolla LE   13,899  49,752     3.3   \n",
       "10           2017 Toyota Highlander Limited   33,958  53,767     4.9   \n",
       "11             2019 Toyota Sequoia Platinum   57,999  54,668     4.5   \n",
       "12                     2019 Toyota Camry SE   27,292  27,100     4.4   \n",
       "13                      2020 Toyota RAV4 LE   28,989  49,234     4.6   \n",
       "14               2019 Toyota Highlander XLE   41,588  18,137     3.5   \n",
       "15              2016 Toyota 4Runner Limited   32,797  80,825     4.8   \n",
       "16                     2019 Toyota Camry LE   23,169  47,205     4.9   \n",
       "17            2021 Toyota Supra 3.0 Premium   62,998   3,758     4.5   \n",
       "18  2015 Toyota Highlander Limited Platinum   23,444  64,062     4.8   \n",
       "19                   2019 Toyota Corolla LE   17,980  47,337     4.5   \n",
       "\n",
       "   Review_count        Badge  \n",
       "0           659   Good Deal   \n",
       "1         2,744   Great Deal  \n",
       "2         2,092   Great Deal  \n",
       "3             1   Good Deal   \n",
       "4         1,745    Good Deal  \n",
       "5           642   Good Deal   \n",
       "6           866    Fair Deal  \n",
       "7           637    Fair Deal  \n",
       "8         3,210    Fair Deal  \n",
       "9            42  Great Deal   \n",
       "10        1,745    Good Deal  \n",
       "11        2,092    Good Deal  \n",
       "12          884    Fair Deal  \n",
       "13          147    Good Deal  \n",
       "14           96    Fair Deal  \n",
       "15          785   Good Deal   \n",
       "16           48    Good Deal  \n",
       "17          961   Great Deal  \n",
       "18          135   Good Deal   \n",
       "19        2,065  Great Deal   "
      ]
     },
     "execution_count": 24,
     "metadata": {},
     "output_type": "execute_result"
    }
   ],
   "source": [
    "car_data_of_single_page"
   ]
  },
  {
   "cell_type": "markdown",
   "id": "536814ed",
   "metadata": {},
   "source": [
    "### CAR DATA FROM MULTIPLE PAGES "
   ]
  },
  {
   "cell_type": "code",
   "execution_count": 25,
   "id": "0abf209b",
   "metadata": {},
   "outputs": [],
   "source": [
    "name =[]\n",
    "price =[]\n",
    "milage =[]\n",
    "badges =[]\n",
    "review_count=[]\n",
    "review =[]\n",
    "\n",
    "for i in range(1,51):\n",
    "    url =\"https://www.cars.com/shopping/results/?page=\"+str(i)+\"&page_size=20&list_price_max=&makes[]=toyota&maximum_distance=20&models[]=&stock_type=used&zip=\"\n",
    "    #response\n",
    "    response = requests.get(url).text\n",
    "    #soup object\n",
    "    soup = BeautifulSoup(response,\"html5lib\")\n",
    "    #results \n",
    "    results = soup.find_all('div',{'class':'vehicle-card'})\n",
    "    \n",
    "    for result in results:\n",
    "        try:\n",
    "            name.append( result.find('h2').text)\n",
    "        except:\n",
    "            name.append(\"null\")\n",
    "        try:   \n",
    "            price.append(result.find('span',{'class':'primary-price'}).text)\n",
    "        except:\n",
    "            price.append(\"null\")\n",
    "        try:\n",
    "            badges.append(result.find('span',{'class':\"sds-badge__label\"}).text)\n",
    "        except:\n",
    "            badges.append(\"null\")\n",
    "        try:\n",
    "            review.append(result.find('span',{'class':'sds-rating__count'}).text)\n",
    "        except:\n",
    "            review.append(\"null\")\n",
    "        try:\n",
    "            review_count.append(result.find('span',{'class':'sds-rating__link sds-button-link'}).text)\n",
    "        except:\n",
    "            review_count.append(\"null\")\n",
    "        try:\n",
    "            milage.append(result.find('div',{'class': 'mileage'}).text)\n",
    "        except:\n",
    "            milage.append(\"null\")"
   ]
  },
  {
   "cell_type": "code",
   "execution_count": 26,
   "id": "d5260832",
   "metadata": {},
   "outputs": [],
   "source": [
    "used_car_price_data = pd.DataFrame({\"Name\":name, \"Price($)\":price, \"Milage\":milage,\"Review\":review,\"Review_count\":review_count,\"Badge\":badges})"
   ]
  },
  {
   "cell_type": "code",
   "execution_count": 27,
   "id": "fdac96e3",
   "metadata": {},
   "outputs": [
    {
     "name": "stdout",
     "output_type": "stream",
     "text": [
      "<class 'pandas.core.frame.DataFrame'>\n",
      "RangeIndex: 1000 entries, 0 to 999\n",
      "Data columns (total 6 columns):\n",
      " #   Column        Non-Null Count  Dtype \n",
      "---  ------        --------------  ----- \n",
      " 0   Name          1000 non-null   object\n",
      " 1   Price($)      1000 non-null   object\n",
      " 2   Milage        1000 non-null   object\n",
      " 3   Review        1000 non-null   object\n",
      " 4   Review_count  1000 non-null   object\n",
      " 5   Badge         1000 non-null   object\n",
      "dtypes: object(6)\n",
      "memory usage: 47.0+ KB\n"
     ]
    }
   ],
   "source": [
    "used_car_price_data.info()"
   ]
  },
  {
   "cell_type": "markdown",
   "id": "897edb2e",
   "metadata": {},
   "source": [
    "### BASIC EDA ON ACTUAL DATASET"
   ]
  },
  {
   "cell_type": "code",
   "execution_count": 28,
   "id": "390b55ae",
   "metadata": {},
   "outputs": [],
   "source": [
    "used_car_price_data['Price($)'] =used_car_price_data ['Price($)'].str.strip(\"$\")"
   ]
  },
  {
   "cell_type": "code",
   "execution_count": 29,
   "id": "b8d5924a",
   "metadata": {},
   "outputs": [],
   "source": [
    "used_car_price_data['Milage'] = used_car_price_data['Milage'].str.replace(\"mi.\",'')"
   ]
  },
  {
   "cell_type": "code",
   "execution_count": 30,
   "id": "9feb2a15",
   "metadata": {},
   "outputs": [],
   "source": [
    "used_car_price_data['Review_count'] = used_car_price_data['Review_count'].str.strip(\"reviews )\")"
   ]
  },
  {
   "cell_type": "code",
   "execution_count": 31,
   "id": "f328dc8c",
   "metadata": {},
   "outputs": [],
   "source": [
    "used_car_price_data['Review_count'] = used_car_price_data['Review_count'].str.strip(\"(\")"
   ]
  },
  {
   "cell_type": "code",
   "execution_count": 32,
   "id": "12291a23",
   "metadata": {},
   "outputs": [],
   "source": [
    "used_car_price_data['Badge'] = used_car_price_data['Badge'].str.split(\"|\").str[0]"
   ]
  },
  {
   "cell_type": "code",
   "execution_count": 33,
   "id": "34e0887c",
   "metadata": {},
   "outputs": [
    {
     "data": {
      "text/html": [
       "<div>\n",
       "<style scoped>\n",
       "    .dataframe tbody tr th:only-of-type {\n",
       "        vertical-align: middle;\n",
       "    }\n",
       "\n",
       "    .dataframe tbody tr th {\n",
       "        vertical-align: top;\n",
       "    }\n",
       "\n",
       "    .dataframe thead th {\n",
       "        text-align: right;\n",
       "    }\n",
       "</style>\n",
       "<table border=\"1\" class=\"dataframe\">\n",
       "  <thead>\n",
       "    <tr style=\"text-align: right;\">\n",
       "      <th></th>\n",
       "      <th>Name</th>\n",
       "      <th>Price($)</th>\n",
       "      <th>Milage</th>\n",
       "      <th>Review</th>\n",
       "      <th>Review_count</th>\n",
       "      <th>Badge</th>\n",
       "    </tr>\n",
       "  </thead>\n",
       "  <tbody>\n",
       "    <tr>\n",
       "      <th>0</th>\n",
       "      <td>2021 Toyota Camry SE</td>\n",
       "      <td>31,150</td>\n",
       "      <td>13,390</td>\n",
       "      <td>4.5</td>\n",
       "      <td>659</td>\n",
       "      <td>Good Deal</td>\n",
       "    </tr>\n",
       "    <tr>\n",
       "      <th>1</th>\n",
       "      <td>2021 Toyota Supra 3.0 Premium</td>\n",
       "      <td>58,981</td>\n",
       "      <td>7,348</td>\n",
       "      <td>4.8</td>\n",
       "      <td>2,744</td>\n",
       "      <td>Great Deal</td>\n",
       "    </tr>\n",
       "    <tr>\n",
       "      <th>2</th>\n",
       "      <td>2019 Toyota Sequoia Platinum</td>\n",
       "      <td>51,999</td>\n",
       "      <td>55,121</td>\n",
       "      <td>4.5</td>\n",
       "      <td>2,092</td>\n",
       "      <td>Great Deal</td>\n",
       "    </tr>\n",
       "    <tr>\n",
       "      <th>3</th>\n",
       "      <td>2019 Toyota Camry SE</td>\n",
       "      <td>25,689</td>\n",
       "      <td>49,126</td>\n",
       "      <td>1.0</td>\n",
       "      <td>1</td>\n",
       "      <td>Good Deal</td>\n",
       "    </tr>\n",
       "    <tr>\n",
       "      <th>4</th>\n",
       "      <td>2017 Toyota Highlander Limited</td>\n",
       "      <td>31,591</td>\n",
       "      <td>84,621</td>\n",
       "      <td>4.9</td>\n",
       "      <td>1,745</td>\n",
       "      <td>Good Deal</td>\n",
       "    </tr>\n",
       "  </tbody>\n",
       "</table>\n",
       "</div>"
      ],
      "text/plain": [
       "                             Name Price($)   Milage Review Review_count  \\\n",
       "0            2021 Toyota Camry SE   31,150  13,390     4.5          659   \n",
       "1   2021 Toyota Supra 3.0 Premium   58,981   7,348     4.8        2,744   \n",
       "2    2019 Toyota Sequoia Platinum   51,999  55,121     4.5        2,092   \n",
       "3            2019 Toyota Camry SE   25,689  49,126     1.0            1   \n",
       "4  2017 Toyota Highlander Limited   31,591  84,621     4.9        1,745   \n",
       "\n",
       "        Badge  \n",
       "0  Good Deal   \n",
       "1  Great Deal  \n",
       "2  Great Deal  \n",
       "3  Good Deal   \n",
       "4   Good Deal  "
      ]
     },
     "execution_count": 33,
     "metadata": {},
     "output_type": "execute_result"
    }
   ],
   "source": [
    "used_car_price_data.head()"
   ]
  },
  {
   "cell_type": "code",
   "execution_count": 34,
   "id": "04d2162a",
   "metadata": {},
   "outputs": [
    {
     "data": {
      "text/html": [
       "<div>\n",
       "<style scoped>\n",
       "    .dataframe tbody tr th:only-of-type {\n",
       "        vertical-align: middle;\n",
       "    }\n",
       "\n",
       "    .dataframe tbody tr th {\n",
       "        vertical-align: top;\n",
       "    }\n",
       "\n",
       "    .dataframe thead th {\n",
       "        text-align: right;\n",
       "    }\n",
       "</style>\n",
       "<table border=\"1\" class=\"dataframe\">\n",
       "  <thead>\n",
       "    <tr style=\"text-align: right;\">\n",
       "      <th></th>\n",
       "      <th>Name</th>\n",
       "      <th>Price($)</th>\n",
       "      <th>Milage</th>\n",
       "      <th>Review</th>\n",
       "      <th>Review_count</th>\n",
       "      <th>Badge</th>\n",
       "    </tr>\n",
       "  </thead>\n",
       "  <tbody>\n",
       "    <tr>\n",
       "      <th>995</th>\n",
       "      <td>2019 Toyota RAV4 Hybrid XLE</td>\n",
       "      <td>36,981</td>\n",
       "      <td>11,872</td>\n",
       "      <td>4.4</td>\n",
       "      <td>640</td>\n",
       "      <td>Good Deal</td>\n",
       "    </tr>\n",
       "    <tr>\n",
       "      <th>996</th>\n",
       "      <td>2010 Toyota Prius IV</td>\n",
       "      <td>7,995</td>\n",
       "      <td>190,884</td>\n",
       "      <td>4.7</td>\n",
       "      <td>1,432</td>\n",
       "      <td>Good Deal</td>\n",
       "    </tr>\n",
       "    <tr>\n",
       "      <th>997</th>\n",
       "      <td>2000 Toyota 4Runner SR5</td>\n",
       "      <td>15,995</td>\n",
       "      <td>145,199</td>\n",
       "      <td>4.1</td>\n",
       "      <td>11</td>\n",
       "      <td>Home Delivery</td>\n",
       "    </tr>\n",
       "    <tr>\n",
       "      <th>998</th>\n",
       "      <td>2019 Toyota Corolla LE</td>\n",
       "      <td>19,989</td>\n",
       "      <td>23,814</td>\n",
       "      <td>4.9</td>\n",
       "      <td>337</td>\n",
       "      <td>Good Deal</td>\n",
       "    </tr>\n",
       "    <tr>\n",
       "      <th>999</th>\n",
       "      <td>2007 Toyota Matrix</td>\n",
       "      <td>8,000</td>\n",
       "      <td>74,132</td>\n",
       "      <td>4.4</td>\n",
       "      <td>25</td>\n",
       "      <td>Hot Car</td>\n",
       "    </tr>\n",
       "  </tbody>\n",
       "</table>\n",
       "</div>"
      ],
      "text/plain": [
       "                            Name Price($)    Milage Review Review_count  \\\n",
       "995  2019 Toyota RAV4 Hybrid XLE   36,981   11,872     4.4          640   \n",
       "996         2010 Toyota Prius IV    7,995  190,884     4.7        1,432   \n",
       "997      2000 Toyota 4Runner SR5   15,995  145,199     4.1           11   \n",
       "998       2019 Toyota Corolla LE   19,989   23,814     4.9          337   \n",
       "999          2007 Toyota Matrix     8,000   74,132     4.4           25   \n",
       "\n",
       "             Badge  \n",
       "995      Good Deal  \n",
       "996      Good Deal  \n",
       "997  Home Delivery  \n",
       "998      Good Deal  \n",
       "999        Hot Car  "
      ]
     },
     "execution_count": 34,
     "metadata": {},
     "output_type": "execute_result"
    }
   ],
   "source": [
    "used_car_price_data.tail()"
   ]
  },
  {
   "cell_type": "code",
   "execution_count": 35,
   "id": "7aafd4be",
   "metadata": {},
   "outputs": [],
   "source": [
    "used_car_price_data.to_csv(\"Used_Car_Price_Data.csv\", index=False)"
   ]
  }
 ],
 "metadata": {
  "kernelspec": {
   "display_name": "Python 3",
   "language": "python",
   "name": "python3"
  },
  "language_info": {
   "codemirror_mode": {
    "name": "ipython",
    "version": 3
   },
   "file_extension": ".py",
   "mimetype": "text/x-python",
   "name": "python",
   "nbconvert_exporter": "python",
   "pygments_lexer": "ipython3",
   "version": "3.8.8"
  }
 },
 "nbformat": 4,
 "nbformat_minor": 5
}
